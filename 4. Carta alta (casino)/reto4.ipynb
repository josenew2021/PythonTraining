{
 "cells": [
  {
   "cell_type": "code",
   "execution_count": null,
   "metadata": {},
   "outputs": [],
   "source": [
    "def tiene_cartas_altas(cartas_siguientes):\n",
    "   \n",
    "    for c in cartas_siguientes: \n",
    "        if c=='A' or c=='J' or c=='Q' or c=='K':\n",
    "            return True\n",
    "    return False\n",
    "        \n",
    "\n",
    "def juego(baraja):\n",
    "    \n",
    "    ptosA = 0\n",
    "    ptosB = 0\n",
    "    idx = 1\n",
    "    idxVlr = 0\n",
    "    \n",
    "    \n",
    "    for c in baraja:\n",
    "        idxVlr = 0\n",
    "        \n",
    "        cartas_siguientes = ()\n",
    "        \n",
    "        if c=='A':\n",
    "            cartas_siguientes = baraja[idx:idx+1]\n",
    "            idxVlr = 1\n",
    "        elif c=='J':\n",
    "            cartas_siguientes = baraja[idx:idx+2]\n",
    "            idxVlr =2\n",
    "        elif c=='Q':\n",
    "            cartas_siguientes = baraja[idx:idx+3]\n",
    "            idxVlr =3\n",
    "        elif c=='K':\n",
    "            cartas_siguientes = baraja[idx:idx+4]\n",
    "            idxVlr =4\n",
    "            \n",
    "        if idxVlr >0 and not tiene_cartas_altas(cartas_siguientes) and len(cartas_siguientes) >= idxVlr:\n",
    "            \n",
    "            if idx%2 == 0:\n",
    "                ptosB = ptosB + idxVlr\n",
    "            else:\n",
    "                ptosA = ptosA + idxVlr\n",
    "                \n",
    "        idx = idx+1\n",
    "    \n",
    "    return ptosA, ptosB"
   ]
  }
 ],
 "metadata": {
  "language_info": {
   "name": "python"
  },
  "orig_nbformat": 4
 },
 "nbformat": 4,
 "nbformat_minor": 2
}
